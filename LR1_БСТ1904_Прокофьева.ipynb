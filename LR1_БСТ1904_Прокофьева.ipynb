{
 "cells": [
  {
   "cell_type": "markdown",
   "metadata": {},
   "source": [
    "# Лабораторная работа №1\n",
    "## Выполнила студентка группы БСТ1904 Прокофьева Ю.\n",
    "### Задание №1\n",
    "Описание условия задачи"
   ]
  },
  {
   "cell_type": "code",
   "execution_count": 1,
   "metadata": {
    "scrolled": true
   },
   "outputs": [
    {
     "name": "stdout",
     "output_type": "stream",
     "text": [
      "Hallo, world!\n"
     ]
    }
   ],
   "source": [
    "print (\"Hallo, world!\")"
   ]
  },
  {
   "cell_type": "code",
   "execution_count": 11,
   "metadata": {},
   "outputs": [
    {
     "name": "stdout",
     "output_type": "stream",
     "text": [
      "Исходная матрица\n",
      "[2, 0, 3, 2, 5]\n",
      "[9, 8, 9, 5, 4]\n",
      "[5, 0, 8, 2, 4]\n",
      "Отсортированная матрица\n",
      "[0, 2, 2, 3, 5]\n",
      "[4, 5, 8, 9, 9]\n",
      "[0, 2, 4, 5, 8]\n",
      "Время работы алгоритма:  0.0\n"
     ]
    }
   ],
   "source": [
    "import random # СОРТИРОВКА ВЫБОРКОЙ\n",
    "import time\n",
    "\n",
    "class Matrix:\n",
    "\n",
    "    def __init__(self, row, col):\n",
    "        self.n = row\n",
    "        self.matrix = [[random.randrange(0, 10) for a in range(col)] for b in range(row)]\n",
    "\n",
    "    def print(self):\n",
    "        matrix = self.matrix\n",
    "        for im in range(len(matrix)):\n",
    "            print(matrix[im])\n",
    "            \n",
    "    \n",
    "    def selection_sort (self): # сортировка выборкой\n",
    "        n = self.n #строки\n",
    "        m = self.matrix\n",
    "        for n in m:  # цикл для всех строк в матрице\n",
    "            for i in range(len(n)): # цикл для всех элементов в строке\n",
    "                lowest_value_index = n[i] # сравниваем все элементы с самым первым\n",
    "                for j in range(i+1, len(n)): \n",
    "                    if n[j] < n[i]:\n",
    "                        lowest_value_index = j\n",
    "                        n[i], n[lowest_value_index] = n[lowest_value_index], n[i] # самый маленький меняется с первым в списке\n",
    "            print(n)\n",
    "start = time.time()   \n",
    "print(\"Исходная матрица\")\n",
    "d=Matrix(3, 5);\n",
    "d.print()\n",
    "print(\"Отсортированная матрица\")\n",
    "d.selection_sort()\n",
    "print(\"Время работы алгоритма: \", time.time() - start)\n"
   ]
  },
  {
   "cell_type": "code",
   "execution_count": 2,
   "metadata": {},
   "outputs": [
    {
     "name": "stdout",
     "output_type": "stream",
     "text": [
      "Исходная матрица\n",
      "[1, 8, 9, 8, 5]\n",
      "[4, 4, 9, 4, 9]\n",
      "[3, 3, 5, 5, 3]\n",
      "Отсортированная матрица\n",
      "[1, 5, 8, 8, 9]\n",
      "[4, 4, 4, 9, 9]\n",
      "[3, 3, 3, 5, 5]\n",
      "Время работы алгоритма:  0.0\n"
     ]
    }
   ],
   "source": [
    "import random # СОРТИРОВКА ВСТАВКОЙ\n",
    "import time\n",
    "\n",
    "class Matrix:\n",
    "\n",
    "    def __init__(self, row, col):\n",
    "        self.n = row\n",
    "        self.matrix = [[random.randrange(0, 10) for a in range(col)] for b in range(row)]\n",
    "\n",
    "    def print(self):\n",
    "        matrix = self.matrix\n",
    "        for im in range(len(matrix)):\n",
    "            print(matrix[im])\n",
    "            \n",
    "    def insertion_sort(self): # сортировка вставкой\n",
    "        n = self.n #строки\n",
    "        m = self.matrix\n",
    "        for n in m:\n",
    "            for i in range(1, len(n)):\n",
    "                item_to_insert = n[i] # ссылка на индекс предыдущего элемента\n",
    "                j = i - 1\n",
    "                while j >= 0 and n[j] > item_to_insert:\n",
    "                    n[j + 1] = n[j]\n",
    "                    j -= 1\n",
    "                    n[j + 1] = item_to_insert\n",
    "            print(n)\n",
    "start = time.time()   \n",
    "print(\"Исходная матрица\")\n",
    "d=Matrix(3, 5);\n",
    "d.print()\n",
    "print(\"Отсортированная матрица\")\n",
    "d.insertion_sort()\n",
    "print(\"Время работы алгоритма: \", time.time() - start)"
   ]
  },
  {
   "cell_type": "code",
   "execution_count": 47,
   "metadata": {},
   "outputs": [
    {
     "name": "stdout",
     "output_type": "stream",
     "text": [
      "Исходная матрица\n",
      "[6, 4, 9, 7, 6]\n",
      "[6, 0, 3, 5, 3]\n",
      "[8, 6, 1, 1, 7]\n",
      "Отсортированная матрица\n",
      "[4, 6, 6, 7, 9]\n",
      "[0, 3, 3, 5, 6]\n",
      "[1, 1, 6, 7, 8]\n",
      "Время работы алгоритма:  0.01154017448425293\n"
     ]
    }
   ],
   "source": [
    "import random # БЫСТРАЯ СОРТИРОВКА\n",
    "import time\n",
    "\n",
    "class Matrix:\n",
    "\n",
    "    def __init__(self, row, col):\n",
    "        self.n = row\n",
    "        self.matrix = [[random.randrange(0, 10) for a in range(col)] for b in range(row)]\n",
    "\n",
    "    def print(self):\n",
    "        matrix = self.matrix\n",
    "        for im in range(len(matrix)):\n",
    "            print(matrix[im])\n",
    "            \n",
    "    def part(mass, low, high): # Выбираем средний элемент в качестве опорного\n",
    "        p = mass[(low + high) // 2]\n",
    "        i = low - 1\n",
    "        j = high + 1\n",
    "        while True:\n",
    "            i += 1\n",
    "            while mass[i] < p:\n",
    "                i += 1\n",
    "                j -= 1\n",
    "                while n[j] > p:\n",
    "                    j -= 1\n",
    "                    if i >= j:\n",
    "                        return j\n",
    "                    # Если элемент с индексом i (слева от опорного) больше, чем\n",
    "        # элемент с индексом j (справа от опорного), меняем их местами\n",
    "     \n",
    "    def quick_sort(mass): # вспомогательная функция, которая вызывается рекурсивно\n",
    "        def _quick_sort(items, low, high):\n",
    "            if low < high:\n",
    "                split_index = part(items, low, high)\n",
    "                _quick_sort(items, low, split_index)\n",
    "                _quick_sort(items, split_index + 1, high)\n",
    "                _quick_sort(mass, 0, len(mass) - 1)\n",
    "            \n",
    "    def quick_sort_mass(self):\n",
    "        n = self.n\n",
    "        m = self.matrix\n",
    "        for n in m:\n",
    "            quick_sort(n)\n",
    "    \n",
    "start = time.time()   \n",
    "print(\"Исходная матрица\")\n",
    "d=Matrix(3, 5)\n",
    "d.print()\n",
    "print(\"Отсортированная матрица\")\n",
    "d.quick_sort_mass()\n",
    "d.print()\n",
    "\n",
    "print(\"Время работы алгоритма: \", time.time() - start)   \n",
    "\n"
   ]
  },
  {
   "cell_type": "code",
   "execution_count": 25,
   "metadata": {
    "scrolled": true
   },
   "outputs": [
    {
     "name": "stdout",
     "output_type": "stream",
     "text": [
      "Исходная матрица\n",
      "[0, 2, 9, 1, 1]\n",
      "[2, 6, 1, 3, 2]\n",
      "Отсортированная матрица\n",
      "[0, 1, 1, 2, 9]\n",
      "[1, 2, 2, 3, 6]\n",
      "<__main__.Matrix object at 0x000001B44012A070>\n",
      "Время работы алгоритма:  0.0019998550415039062\n"
     ]
    }
   ],
   "source": [
    "import random #СОРТИРОВКА ОБМЕНОМ\n",
    "import time\n",
    "\n",
    "class Matrix:\n",
    "\n",
    "    def __init__(self, row, col):\n",
    "        self.n = row\n",
    "        self.matrix = [[random.randrange(0, 10) for a in range(col)] for b in range(row)]\n",
    "\n",
    "    def print(self):\n",
    "        matrix = self.matrix\n",
    "        for im in range(len(matrix)):\n",
    "            print(matrix[im])\n",
    "    \n",
    "    def change_sort(self):\n",
    "        n = self.n\n",
    "        m = self.matrix\n",
    "        for n in m:\n",
    "            s = True # запуск цикла в 1-й раз\n",
    "            while s:\n",
    "                s = False\n",
    "                for i in range(len(n) - 1):\n",
    "                    if n[i] > n[i + 1]:\n",
    "                        n[i], n[i + 1] = n[i + 1], n[i]\n",
    "                        # замена элемента\n",
    "                        s = True\n",
    "            print(n)\n",
    "                \n",
    "start = time.time()   \n",
    "print(\"Исходная матрица\")\n",
    "d=Matrix(2, 5);\n",
    "d.print()\n",
    "print(\"Отсортированная матрица\")\n",
    "d.change_sort()\n",
    "print(d)\n",
    "print(\"Время работы алгоритма: \", time.time() - start)"
   ]
  },
  {
   "cell_type": "code",
   "execution_count": 38,
   "metadata": {},
   "outputs": [
    {
     "name": "stdout",
     "output_type": "stream",
     "text": [
      "Исходная матрица\n",
      "[197, 775, 116, 983, 936]\n",
      "[179, 425, 825, -24, 999]\n",
      "Отсортированная матрица\n",
      "[116, 197, 775, 936, 983]\n",
      "[-24, 179, 425, 825, 999]\n",
      "Время работы алгоритма:  0.0029981136322021484\n"
     ]
    }
   ],
   "source": [
    "import random #СОРТИРОВКА ШЕЛЛА\n",
    "import time\n",
    "\n",
    "class Matrix:\n",
    "\n",
    "    def __init__(self, row, col):\n",
    "        self.n = row\n",
    "        self.matrix = [[random.randrange(-250, 1015) for a in range(col)] for b in range(row)]\n",
    "\n",
    "    def print(self):\n",
    "        matrix = self.matrix\n",
    "        for im in range(len(matrix)):\n",
    "            print(matrix[im])\n",
    "            \n",
    "    def shell(self):\n",
    "        n = self.n\n",
    "        m = self.matrix\n",
    "        for n in m:\n",
    "            step = len(n) // 2\n",
    "            while step > 0:\n",
    "                for i in range(step, len(n)):\n",
    "                        current_i = n[i]\n",
    "                        position = i\n",
    "                        \n",
    "                        while position >= step and n[position - step] > current_i:\n",
    "                            n[position] = n[position - step]\n",
    "                            position -= step\n",
    "                            n[position] = current_i\n",
    "                            \n",
    "                index //= 2\n",
    "        return n\n",
    "\n",
    "                \n",
    "\n",
    "start = time.time()   \n",
    "print(\"Исходная матрица\")\n",
    "d=Matrix(2, 5);\n",
    "d.print()\n",
    "print(\"Отсортированная матрица\")\n",
    "d.shell()\n",
    "d.print()\n",
    "\n",
    "print(\"Время работы алгоритма: \", time.time() - start)"
   ]
  },
  {
   "cell_type": "code",
   "execution_count": 58,
   "metadata": {},
   "outputs": [
    {
     "name": "stdout",
     "output_type": "stream",
     "text": [
      "Исходная матрица\n",
      "[7, 8, 5, 3, 4]\n",
      "[4, 0, 2, 4, 1]\n",
      "Отсортированная матрица\n",
      "[3, 4, 5, 7, 8]\n",
      "[0, 1, 2, 4, 4]\n",
      "Время работы алгоритма:  0.001013040542602539\n"
     ]
    }
   ],
   "source": [
    "import random #ПИРАМИДАЛЬНАЯ СОРТИРОВКА\n",
    "import time\n",
    "\n",
    "class Matrix:\n",
    "\n",
    "    def __init__(self, row, col):\n",
    "        self.n = row\n",
    "        self.matrix = [[random.randrange(0, 10) for a in range(col)] for b in range(row)]\n",
    "\n",
    "    def print(self):\n",
    "        matrix = self.matrix\n",
    "        for im in range(len(matrix)):\n",
    "            print(matrix[im])\n",
    "            \n",
    "    def heapify(nums, heap_size, root_index):\n",
    "        # Индекс наибольшего элемента считаем корневым индексом\n",
    "        largest = root_index\n",
    "        left_child = (2 * root_index) + 1\n",
    "        right_child = (2 * root_index) + 2\n",
    "        # Если левый потомок корня — допустимый индекс, а элемент больше,\n",
    "        # чем текущий наибольший, обновляем наибольший элемент\n",
    "        if left_child < heap_size and nums[left_child] > nums[largest]:\n",
    "            largest = left_child\n",
    "            if right_child < heap_size and nnums[right_child] > nums[largest]:\n",
    "                largest = right_child\n",
    "                if largest != root_index:\n",
    "                    # Если наибольший элемент больше не корневой, они меняются местами\n",
    "                    nums[root_index], nums[largest] = nums[largest], nums[root_index]\n",
    "                    # Heapify the new root element to ensure it's the largest\n",
    "                    heapify(nums, heap_size, largest)\n",
    "                        \n",
    "    \n",
    "            \n",
    "    def heap_sort(nums):\n",
    "        # Создаём Max Heap из списка\n",
    "    # Второй аргумент означает остановку алгоритма перед элементом -1, т.е.\n",
    "    # перед первым элементом списка\n",
    "    # 3-й аргумент означает повторный проход по списку в обратном направлении, \n",
    "    # уменьшая счётчик i на 1 \n",
    "        l = len(nums)\n",
    "        for i in range(n, -1, -1):\n",
    "            heapify(nums, n, i)\n",
    "            for i in range(n - 1, 0, -1):\n",
    "                nums[i], nums[0] = nums[0], nums[i]\n",
    "                heapify(nums, i, 0)\n",
    "    \n",
    "    def heap_sort_2dMas(self):\n",
    "        n = self.n\n",
    "        m = self.matrix\n",
    "        for n in m:\n",
    "            heap_sort(n)\n",
    "    \n",
    "        \n",
    "    \n",
    "start = time.time()   \n",
    "print(\"Исходная матрица\")\n",
    "d=Matrix(2, 5);\n",
    "d.print()\n",
    "print(\"Отсортированная матрица\")\n",
    "d.heap_sort_2dMas()\n",
    "d.print()\n",
    "print(\"Время работы алгоритма: \", time.time() - start)   \n",
    "    "
   ]
  },
  {
   "cell_type": "code",
   "execution_count": null,
   "metadata": {},
   "outputs": [],
   "source": []
  }
 ],
 "metadata": {
  "kernelspec": {
   "display_name": "Python 3",
   "language": "python",
   "name": "python3"
  },
  "language_info": {
   "codemirror_mode": {
    "name": "ipython",
    "version": 3
   },
   "file_extension": ".py",
   "mimetype": "text/x-python",
   "name": "python",
   "nbconvert_exporter": "python",
   "pygments_lexer": "ipython3",
   "version": "3.9.1"
  }
 },
 "nbformat": 4,
 "nbformat_minor": 4
}
