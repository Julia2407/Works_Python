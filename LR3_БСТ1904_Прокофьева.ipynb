{
 "cells": [
  {
   "cell_type": "markdown",
   "id": "oriented-routine",
   "metadata": {},
   "source": [
    "# Лабораторная работа№3\n",
    "## Выполнила студентка гр.БСТ1904 Прокофьева Ю."
   ]
  },
  {
   "cell_type": "markdown",
   "id": "empirical-throat",
   "metadata": {},
   "source": [
    "### Алгоритм Кнута-Морисса-Пратта"
   ]
  },
  {
   "cell_type": "code",
   "execution_count": 5,
   "id": "english-orleans",
   "metadata": {},
   "outputs": [],
   "source": [
    "from array import *\n",
    "import time"
   ]
  },
  {
   "cell_type": "code",
   "execution_count": 6,
   "id": "educated-vulnerability",
   "metadata": {},
   "outputs": [],
   "source": [
    "def kmpSearchByCompil(s, x):\n",
    "    d = {0:0}\n",
    "    string = x + '#' + s\n",
    "    for i in range(1,len(string)):\n",
    "        j = d[i-1]\n",
    "        while j > 0 and string[j] != string[i]:\n",
    "            j = d[j-1]\n",
    "        if string[j] == string[i]:\n",
    "            j += 1\n",
    "        d[i] = j\n",
    "        if j == len(x):\n",
    "            return i\n",
    "    return None "
   ]
  },
  {
   "cell_type": "code",
   "execution_count": 10,
   "id": "stopped-revolution",
   "metadata": {},
   "outputs": [
    {
     "name": "stdout",
     "output_type": "stream",
     "text": [
      "Подстрока найдена\n",
      "Время работы алгоритма КМП:  0.000995635986328125\n"
     ]
    }
   ],
   "source": [
    "start = time.time() \n",
    "x = \"aabaa\"\n",
    "s = \"aaaaaabaaa\"\n",
    "if kmpSearchByCompil(s,x)== None:\n",
    "    print(\"Подстрока не найдена\")\n",
    "else:\n",
    "    print(\"Подстрока найдена\")\n",
    "print(\"Время работы алгоритма КМП: \", time.time() - start)    "
   ]
  },
  {
   "cell_type": "markdown",
   "id": "competent-thousand",
   "metadata": {},
   "source": [
    "## Упрощенный Бойера-Мура"
   ]
  },
  {
   "cell_type": "code",
   "execution_count": 31,
   "id": "tracked-tourism",
   "metadata": {},
   "outputs": [],
   "source": [
    "def bmPredCompil(x):\n",
    "    d = {}\n",
    "    lenX = len(x)\n",
    "    for i in range(len(x)):\n",
    "        d[ord(x[i])] = lenX - i\n",
    "    return d"
   ]
  },
  {
   "cell_type": "code",
   "execution_count": 32,
   "id": "secure-blair",
   "metadata": {},
   "outputs": [],
   "source": [
    "def boyerMurSearch(s, x):\n",
    "    d = bmPredCompil(x)\n",
    "    lenX = i = j = k = len(x)\n",
    "    while j > 0 and i<=len(s):\n",
    "        if s[k-1] == x[j-1]:\n",
    "            k -= 1\n",
    "            j -= 1\n",
    "        \n",
    "        else:\n",
    "            i += d[ord(s[i])]\n",
    "            j = lenX\n",
    "            k = i\n",
    "    if j <= 0:# \n",
    "        return k\n",
    "    return None"
   ]
  },
  {
   "cell_type": "code",
   "execution_count": 36,
   "id": "integrated-geology",
   "metadata": {},
   "outputs": [
    {
     "name": "stdout",
     "output_type": "stream",
     "text": [
      "Подстрока не найдена\n",
      "Время работы упрощенного алгоритма Бойера-Мура :  0.00099945068359375\n"
     ]
    }
   ],
   "source": [
    "start = time.time() \n",
    "x = \"abaa\"\n",
    "s = \"aaaaaab\"\n",
    "if boyerMurSearch(s,x)== None:\n",
    "    print(\"Подстрока не найдена\")\n",
    "else:\n",
    "    print(\"Подстрока найдена\")\n",
    "print(\"Время работы упрощенного алгоритма Бойера-Мура : \", time.time() - start)"
   ]
  },
  {
   "cell_type": "markdown",
   "id": "distant-electron",
   "metadata": {},
   "source": [
    " ## Пятнашки"
   ]
  },
  {
   "cell_type": "code",
   "execution_count": 27,
   "id": "emotional-documentation",
   "metadata": {},
   "outputs": [],
   "source": [
    "def pl(arr):\n",
    "    for i in range (0,len(arr)-1):\n",
    "        if arr[i+1] == arr[i]+1:\n",
    "            return arr\n",
    "        else"
   ]
  },
  {
   "cell_type": "code",
   "execution_count": 29,
   "id": "weird-albuquerque",
   "metadata": {},
   "outputs": [
    {
     "data": {
      "text/plain": [
       "[1, 2, 7, 4, 5, 6, 3, 8, 9, 10, 11, 12, 13, 14, 15, 0]"
      ]
     },
     "execution_count": 29,
     "metadata": {},
     "output_type": "execute_result"
    }
   ],
   "source": [
    "array = [1,2,7,4,5,6,3,8,9,10,11,12,13,14,15,0]\n",
    "pl(array)\n"
   ]
  },
  {
   "cell_type": "code",
   "execution_count": 40,
   "id": "sudden-casino",
   "metadata": {},
   "outputs": [
    {
     "name": "stdout",
     "output_type": "stream",
     "text": [
      "Нет решения\n"
     ]
    }
   ],
   "source": [
    "from queue import PriorityQueue\n",
    "\n",
    "N = 4\n",
    "\n",
    "def moves(position):\n",
    "    blank = position.index(0)\n",
    "    i, j = divmod(blank, N)\n",
    "    offsets = []\n",
    "    if i > 0: offsets.append(-N)     # вниз\n",
    "    if i < N - 1: offsets.append(N)  # вверх\n",
    "    if j > 0: offsets.append(-1)     # вправо\n",
    "    if j < N - 1: offsets.append(1)  # влево\n",
    "    for offset in offsets:\n",
    "        swap = blank + offset\n",
    "        yield tuple(position[swap] if x==blank else position[blank] if x==swap else position[x] for x in range(N*N))\n",
    "\n",
    "\n",
    "def parity(permutation):\n",
    "    seen, cycles = set(), 0\n",
    "    for i in permutation:\n",
    "        if i not in seen:\n",
    "            cycles += 1\n",
    "            while i not in seen:\n",
    "                seen.add(i)\n",
    "                i = permutation[i]\n",
    "    return (cycles + len(permutation)) % 2\n",
    "\n",
    "class Position:\n",
    "    def __init__(self, position, start_distance):\n",
    "        self.position = position\n",
    "        self.start_distance = start_distance\n",
    "\n",
    "    def __lt__(self, other):\n",
    "        return self.start_distance < other.start_distance\n",
    "\n",
    "    def __str__(self):\n",
    "        return '\\n'.join((N*'{:3}').format(*[i%(N*N) for i in self.position[i:]]) for i in range(0, N*N, N))\n",
    "\n",
    "SOLVED = (1, 2, 3, 4, 5, 6, 7, 8, 9, 10, 11, 12, 13, 14, 15, 0)\n",
    "\n",
    "start = [1, 2, 3, 4, 6, 5, 7, 8, 13, 9, 11, 12, 10, 14, 15, 0]\n",
    "\n",
    "if parity(start) == 0:\n",
    "   \n",
    "    print('Нет решения')\n",
    "else:\n",
    "    start = tuple(start)\n",
    "\n",
    "    p = Position(start, 0)\n",
    "\n",
    "    print(p)\n",
    "    print()\n",
    "\n",
    "    candidates = PriorityQueue()\n",
    "    candidates.put(p)\n",
    "\n",
    "    visited = set([p])\n",
    "    came_from = {p.position: None}\n",
    "    \n",
    "    while p.position != SOLVED:\n",
    "        p = candidates.get()\n",
    "        for k in moves(p.position):\n",
    "            if k not in visited:\n",
    "                candidates.put(Position(k, p.start_distance + 1))\n",
    "                came_from[k] = p\n",
    "                visited.add(k)\n",
    "\n",
    "    path = []\n",
    "    prev = p\n",
    "    while p.position != start:\n",
    "        p = came_from[p.position]\n",
    "        number = p.position[prev.position.index(0)]\n",
    "        path.append(number)\n",
    "        prev = p\n",
    "    path.reverse()\n",
    "\n",
    "    print(path)"
   ]
  },
  {
   "cell_type": "markdown",
   "id": "configured-flexibility",
   "metadata": {},
   "source": [
    "## Вывод\n",
    "### В данной лабораторной работе были изучены алгоритмы поиска подстроки в строке, а также решена задача \"Пятнашки\"\n"
   ]
  },
  {
   "cell_type": "code",
   "execution_count": null,
   "id": "japanese-biology",
   "metadata": {},
   "outputs": [],
   "source": []
  }
 ],
 "metadata": {
  "kernelspec": {
   "display_name": "Python 3",
   "language": "python",
   "name": "python3"
  },
  "language_info": {
   "codemirror_mode": {
    "name": "ipython",
    "version": 3
   },
   "file_extension": ".py",
   "mimetype": "text/x-python",
   "name": "python",
   "nbconvert_exporter": "python",
   "pygments_lexer": "ipython3",
   "version": "3.9.1"
  }
 },
 "nbformat": 4,
 "nbformat_minor": 5
}
