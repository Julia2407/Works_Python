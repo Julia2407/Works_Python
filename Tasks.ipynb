{
 "cells": [
  {
   "cell_type": "code",
   "execution_count": 1,
   "id": "activated-deposit",
   "metadata": {},
   "outputs": [
    {
     "name": "stdout",
     "output_type": "stream",
     "text": [
      "Введите длины отрезков: 6 7 8\n",
      "[6, 7, 8]\n",
      "21\n"
     ]
    }
   ],
   "source": [
    "# Задача 1 \n",
    "segments = list(map(int,input('Введите длины отрезков: ').split()))\n",
    "p = - 10\n",
    "for i in segments:\n",
    "        for i in range(1, len(segments)):\n",
    "            item_to_insert = segments[i]\n",
    "            j = i - 1\n",
    "            while j >= 0 and segments[j] > item_to_insert:\n",
    "                segments[j + 1] = segments[j]\n",
    "                j -= 1\n",
    "                segments[j + 1] = item_to_insert\n",
    "print(segments)\n",
    "for i in range (0, len (segments) - 2):\n",
    "    j = i+1\n",
    "    if  segments[i] + segments [j] > segments [j+1]:\n",
    "        p =  segments[i] + segments [j] + segments [j+1]\n",
    "        p1 = 0\n",
    "       \n",
    "    else:\n",
    "        if  segments[i] + segments [j] <= segments [j+1]:\n",
    "            p1 = 0\n",
    "if p1 > p:\n",
    "    print(p1)\n",
    "    \n",
    "else:\n",
    "    print(p)\n",
    "                   \n",
    "\n",
    "        \n",
    "    \n"
   ]
  },
  {
   "cell_type": "code",
   "execution_count": 33,
   "id": "bound-wayne",
   "metadata": {},
   "outputs": [
    {
     "name": "stdout",
     "output_type": "stream",
     "text": [
      "[6, 8, 2]\n",
      "[[2, 3, 1], [8, 6, 1], [1, 1, 8]]\n"
     ]
    }
   ],
   "source": [
    "#Задача №3\n",
    "array1 =  [[6, 3, 1], [8, 8, 1], [1, 1, 2]]\n",
    "n = 3\n",
    "m = 3\n",
    "diag = [array1[i][i] for i in range(3)]\n",
    "print(diag)  \n",
    "\n",
    "def sort (n): \n",
    "    for i in range(len(n)):\n",
    "        lowest_value_index = n[i] \n",
    "        for j in range(i+1, len(n)):\n",
    "            if n[j] < n[i]:\n",
    "                lowest_value_index = j\n",
    "                n[i], n[lowest_value_index] = n[lowest_value_index], n[i]\n",
    "           \n",
    "            \n",
    "diag.sort()\n",
    "for i in range(3):\n",
    "    for i in range(3):\n",
    "        array1[i][i] = diag[i]\n",
    "        i+=1\n",
    "     \n",
    "       \n",
    "print(array1)"
   ]
  },
  {
   "cell_type": "code",
   "execution_count": null,
   "id": "documented-manufacturer",
   "metadata": {},
   "outputs": [],
   "source": []
  },
  {
   "cell_type": "code",
   "execution_count": null,
   "id": "anticipated-circumstances",
   "metadata": {},
   "outputs": [],
   "source": []
  }
 ],
 "metadata": {
  "kernelspec": {
   "display_name": "Python 3",
   "language": "python",
   "name": "python3"
  },
  "language_info": {
   "codemirror_mode": {
    "name": "ipython",
    "version": 3
   },
   "file_extension": ".py",
   "mimetype": "text/x-python",
   "name": "python",
   "nbconvert_exporter": "python",
   "pygments_lexer": "ipython3",
   "version": "3.9.1"
  }
 },
 "nbformat": 4,
 "nbformat_minor": 5
}
