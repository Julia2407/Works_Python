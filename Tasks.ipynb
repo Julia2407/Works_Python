{
 "cells": [
  {
   "cell_type": "code",
   "execution_count": 8,
   "id": "statutory-restoration",
   "metadata": {},
   "outputs": [
    {
     "name": "stdout",
     "output_type": "stream",
     "text": [
      "Введите длины отрезков: 1 1 2\n",
      "[1, 1, 2]\n",
      "0\n"
     ]
    }
   ],
   "source": [
    "#Задача №1\n",
    "segments = list(map(int,input('Введите длины отрезков: ').split()))\n",
    "\n",
    "def max_p (segments):\n",
    "    p = - 10\n",
    "    for i in range (0, len (segments) - 2):\n",
    "        j = i+1\n",
    "        if  segments[i] + segments [j] > segments [j+1]:\n",
    "            p =  segments[i] + segments [j] + segments [j+1]\n",
    "            p1 = 0\n",
    "       \n",
    "        else:\n",
    "            if  segments[i] + segments [j] <= segments [j+1]:\n",
    "                p1 = 0\n",
    "    if p1 > p:\n",
    "        print(p1)\n",
    "    \n",
    "    else:\n",
    "        print(p)\n",
    "segments.sort()\n",
    "print(segments)\n",
    "max_p(segments)\n",
    "\n",
    "    \n",
    "        "
   ]
  },
  {
   "cell_type": "code",
   "execution_count": 100,
   "id": "republican-square",
   "metadata": {},
   "outputs": [
    {
     "name": "stdout",
     "output_type": "stream",
     "text": [
      "[6, 8, 2]\n",
      "[[2, 3, 1], [8, 6, 1], [1, 1, 8]]\n"
     ]
    }
   ],
   "source": [
    "#Задача 3\n",
    "def diag_sort (array1,n):\n",
    "    diag = [array1[i][i] for i in range(n)]\n",
    "    print(diag)\n",
    "    diag.sort()\n",
    "    for i in range(3):\n",
    "        for i in range(3):\n",
    "            array1[i][i] = diag[i]\n",
    "            i+=1\n",
    "     \n",
    "       \n",
    "    print(array1)\n",
    "array =  [[6, 3, 1], [8, 8, 1], [1, 1, 2]]\n",
    "diag_sort(array,3)\n",
    "          \n"
   ]
  },
  {
   "cell_type": "code",
   "execution_count": 180,
   "id": "anticipated-circumstances",
   "metadata": {},
   "outputs": [
    {
     "name": "stdout",
     "output_type": "stream",
     "text": [
      "Введите числа: 7 6 5 23\n",
      "[23, 7, 6, 5]\n",
      "[7, 6, 5, 23]\n"
     ]
    }
   ],
   "source": [
    "nums1 = list(map(int,input('Введите числа: ').split()))\n",
    "\n",
    "def max_comb(nums):\n",
    "    \n",
    "    nums.sort()\n",
    "    nums.reverse()\n",
    "    print(nums)\n",
    "    k =0\n",
    "    for i in range (0, len(nums)): #количество двухзначных чисел\n",
    "        if (nums[i]//10 != 0):\n",
    "            k +=1\n",
    "   \n",
    "    for i in range (k, len(nums)):\n",
    "        j = i -1\n",
    "        if (k >1):\n",
    "            for j in range (k):\n",
    "                if (nums[i] %10 > nums [j] //10):\n",
    "                    nums[j],nums[i] = nums [i], nums[j]\n",
    "                    j-=1\n",
    "        else:\n",
    "            if (k==1):\n",
    "                if (nums[i] %10 > nums [j] //10):\n",
    "                    nums[j],nums[i] = nums [i], nums[j]\n",
    "                    j-=1\n",
    "            if (k<1):\n",
    "                nums.sort()\n",
    "                nums.reverse()\n",
    "    print(nums)\n",
    "    \n",
    "    \n",
    "    \n",
    "\n",
    "max_comb(nums1)"
   ]
  },
  {
   "cell_type": "code",
   "execution_count": null,
   "id": "vertical-section",
   "metadata": {},
   "outputs": [],
   "source": []
  },
  {
   "cell_type": "code",
   "execution_count": null,
   "id": "atmospheric-brave",
   "metadata": {},
   "outputs": [],
   "source": []
  }
 ],
 "metadata": {
  "kernelspec": {
   "display_name": "Python 3",
   "language": "python",
   "name": "python3"
  },
  "language_info": {
   "codemirror_mode": {
    "name": "ipython",
    "version": 3
   },
   "file_extension": ".py",
   "mimetype": "text/x-python",
   "name": "python",
   "nbconvert_exporter": "python",
   "pygments_lexer": "ipython3",
   "version": "3.9.1"
  }
 },
 "nbformat": 4,
 "nbformat_minor": 5
}
