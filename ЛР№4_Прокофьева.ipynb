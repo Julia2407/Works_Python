{
 "cells": [
  {
   "cell_type": "markdown",
   "id": "brown-message",
   "metadata": {},
   "source": [
    "## Лабораторная работа №4\n",
    "### Выполнила студентка гр.БСТ1904 Прокофьева Ю."
   ]
  },
  {
   "cell_type": "markdown",
   "id": "announced-garlic",
   "metadata": {},
   "source": [
    "### Реализация stack и deque"
   ]
  },
  {
   "cell_type": "code",
   "execution_count": 99,
   "id": "immediate-china",
   "metadata": {},
   "outputs": [],
   "source": [
    "class Deque:\n",
    "    \n",
    "    def __init__(self):\n",
    "        self.items = []\n",
    "        \n",
    "\n",
    "    def isEmpty(self):\n",
    "        return self.items == []\n",
    "\n",
    "    def addFront(self, item): # добавление в начало\n",
    "        self.items.append(item)\n",
    "\n",
    "    def addRear(self, item): # добавление в конец\n",
    "        self.items.insert(0,item)\n",
    "\n",
    "    def removeFront(self):\n",
    "        return self.items.pop()\n",
    "\n",
    "    def removeRear(self):\n",
    "        return self.items.pop(0)\n",
    "    \n",
    "    def push(self, item):\n",
    "         self.items.insert(0,item)\n",
    "            \n",
    "    def peek(self):\n",
    "         return self.items[0]\n",
    "        \n",
    "    \n",
    "    \n",
    "    \n"
   ]
  },
  {
   "cell_type": "code",
   "execution_count": 103,
   "id": "raising-pricing",
   "metadata": {},
   "outputs": [],
   "source": [
    "class Stack:\n",
    "    \n",
    "    def __init__(self):\n",
    "        self.items = []\n",
    "        \n",
    "        \n",
    "    def isEmpty(self):\n",
    "        return self.items == []\n",
    "\n",
    "    def push(self, item):\n",
    "         self.items.insert(0,item)\n",
    "\n",
    "    def pop(self):\n",
    "         return self.items.pop(0)\n",
    "\n",
    "    def peek(self):\n",
    "         return self.items[0]\n",
    "        \n",
    "   "
   ]
  },
  {
   "cell_type": "markdown",
   "id": "julian-wings",
   "metadata": {},
   "source": [
    "## Задание 1"
   ]
  },
  {
   "cell_type": "code",
   "execution_count": 104,
   "id": "right-sector",
   "metadata": {},
   "outputs": [
    {
     "name": "stdout",
     "output_type": "stream",
     "text": [
      "Алиса в Зазеркалье\t\n",
      "\n",
      "Алиса в стране чудес\t\n",
      "\n",
      "Алхимик\t\n",
      "\n",
      "Бегущая по волнам\t\n",
      "\n",
      "В кругу развалин\n",
      "\n",
      "Вино из одуванчиков\t\t\n",
      "\n",
      "Властелин колец\t\n",
      "\n",
      "Волшебник Земноморья\t\n",
      "\n",
      "Дракон\t\n",
      "\n",
      "Заповедник гоблинов\t\n",
      "\n",
      "Интервью с вампиром\n",
      "\n",
      "Колесо времени\t\n",
      "\n",
      "Королевство кривых зеркал\n",
      "\n",
      "Крыса из нержавеющей стали\n",
      "\n",
      "Лабиринты Ехо\t\n",
      "\n",
      "Машина времени\t\n",
      "\n",
      "Мио, мой Мио!\n",
      "\n",
      "Надвигается беда\n",
      "\n",
      "Ночь в тоскливом октябре\n",
      "\n",
      "Песнь Льда и Огня\t\n",
      "\n",
      "Питер Пэн и Венди\n",
      "\n",
      "Плоский мир\t\n",
      "\n",
      "Путешествия Гулливера\t\n",
      "\n",
      "Северное сияние\n",
      "\n",
      "Семья вурдалака\t\n",
      "\n",
      "Серия \"Меч Истины\"\n",
      "\n",
      "Сирены Титана\n",
      "\n",
      "Сказки для вундеркиндов\n",
      "\n",
      "Темная башня\t\n",
      "\n",
      "Удивительный волшебник из страны Оз\n",
      "\n",
      "Хоббит, или Туда и обратно\n",
      "\n",
      "Хроники Амбера\t\n",
      "\n",
      "Хроники Нарнии\t\n",
      "\n",
      "Цикл произведений о Ведьмаке\n",
      "\n",
      "Чарли и шоколадная фабрика\t\n",
      "\n",
      "Янки из Коннектикута при дворе короля Артура\n",
      "\n"
     ]
    }
   ],
   "source": [
    "with open('C:\\\\Users\\\\three\\\\PycharmProjects\\\\pythonProject\\\\books.txt', 'r', encoding = 'utf8') as books:\n",
    "    q1 = Deque()\n",
    "    q2 = Deque()\n",
    "    for book in books:\n",
    "        q1.addRear(book)\n",
    "    while not q1.isEmpty():\n",
    "        x = q1.removeRear()\n",
    "        while not q2.isEmpty() and q2.peek() < x:\n",
    "            q1.addRear(q2.removeRear())\n",
    "        q2.addRear(x)\n",
    "    while not q2.isEmpty():\n",
    "        print(q2.removeRear())"
   ]
  },
  {
   "cell_type": "markdown",
   "id": "fitting-remark",
   "metadata": {},
   "source": [
    "## Задание 3"
   ]
  },
  {
   "cell_type": "code",
   "execution_count": 109,
   "id": "thorough-junior",
   "metadata": {},
   "outputs": [
    {
     "ename": "IndexError",
     "evalue": "list index out of range",
     "output_type": "error",
     "traceback": [
      "\u001b[1;31m---------------------------------------------------------------------------\u001b[0m",
      "\u001b[1;31mIndexError\u001b[0m                                Traceback (most recent call last)",
      "\u001b[1;32m<ipython-input-109-a0da30f00b3b>\u001b[0m in \u001b[0;36m<module>\u001b[1;34m\u001b[0m\n\u001b[0;32m     20\u001b[0m \u001b[1;32mif\u001b[0m \u001b[0mdisks\u001b[0m \u001b[1;33m%\u001b[0m \u001b[1;36m2\u001b[0m \u001b[1;33m==\u001b[0m \u001b[1;36m0\u001b[0m\u001b[1;33m:\u001b[0m\u001b[1;33m\u001b[0m\u001b[1;33m\u001b[0m\u001b[0m\n\u001b[0;32m     21\u001b[0m     \u001b[1;32mwhile\u001b[0m \u001b[0mlen\u001b[0m\u001b[1;33m(\u001b[0m\u001b[0mC\u001b[0m\u001b[1;33m)\u001b[0m \u001b[1;33m!=\u001b[0m \u001b[0mdisks\u001b[0m\u001b[1;33m:\u001b[0m\u001b[1;33m\u001b[0m\u001b[1;33m\u001b[0m\u001b[0m\n\u001b[1;32m---> 22\u001b[1;33m         \u001b[0mmove\u001b[0m\u001b[1;33m(\u001b[0m\u001b[0mA\u001b[0m\u001b[1;33m,\u001b[0m \u001b[0mB\u001b[0m\u001b[1;33m)\u001b[0m\u001b[1;33m\u001b[0m\u001b[1;33m\u001b[0m\u001b[0m\n\u001b[0m\u001b[0;32m     23\u001b[0m         \u001b[0mmove\u001b[0m\u001b[1;33m(\u001b[0m\u001b[0mA\u001b[0m\u001b[1;33m,\u001b[0m \u001b[0mC\u001b[0m\u001b[1;33m)\u001b[0m\u001b[1;33m\u001b[0m\u001b[1;33m\u001b[0m\u001b[0m\n\u001b[0;32m     24\u001b[0m         \u001b[0mmove\u001b[0m\u001b[1;33m(\u001b[0m\u001b[0mB\u001b[0m\u001b[1;33m,\u001b[0m \u001b[0mC\u001b[0m\u001b[1;33m)\u001b[0m\u001b[1;33m\u001b[0m\u001b[1;33m\u001b[0m\u001b[0m\n",
      "\u001b[1;32m<ipython-input-109-a0da30f00b3b>\u001b[0m in \u001b[0;36mmove\u001b[1;34m(a, b)\u001b[0m\n\u001b[0;32m     13\u001b[0m     \u001b[1;32melif\u001b[0m \u001b[0mlen\u001b[0m\u001b[1;33m(\u001b[0m\u001b[0ma\u001b[0m\u001b[1;33m)\u001b[0m \u001b[1;33m>\u001b[0m \u001b[1;36m0\u001b[0m \u001b[1;32mand\u001b[0m \u001b[0mlen\u001b[0m\u001b[1;33m(\u001b[0m\u001b[0mb\u001b[0m\u001b[1;33m)\u001b[0m \u001b[1;33m==\u001b[0m \u001b[1;36m0\u001b[0m\u001b[1;33m:\u001b[0m\u001b[1;33m\u001b[0m\u001b[1;33m\u001b[0m\u001b[0m\n\u001b[0;32m     14\u001b[0m         \u001b[0mb\u001b[0m\u001b[1;33m.\u001b[0m\u001b[0mpush\u001b[0m\u001b[1;33m(\u001b[0m\u001b[0ma\u001b[0m\u001b[1;33m.\u001b[0m\u001b[0mpop\u001b[0m\u001b[1;33m(\u001b[0m\u001b[1;33m)\u001b[0m\u001b[1;33m)\u001b[0m\u001b[1;33m\u001b[0m\u001b[1;33m\u001b[0m\u001b[0m\n\u001b[1;32m---> 15\u001b[1;33m     \u001b[1;32melif\u001b[0m \u001b[0ma\u001b[0m\u001b[1;33m.\u001b[0m\u001b[0mpeek\u001b[0m\u001b[1;33m(\u001b[0m\u001b[1;33m)\u001b[0m \u001b[1;33m>\u001b[0m \u001b[0mb\u001b[0m\u001b[1;33m.\u001b[0m\u001b[0mpeek\u001b[0m\u001b[1;33m(\u001b[0m\u001b[1;33m)\u001b[0m\u001b[1;33m:\u001b[0m\u001b[1;33m\u001b[0m\u001b[1;33m\u001b[0m\u001b[0m\n\u001b[0m\u001b[0;32m     16\u001b[0m         \u001b[0ma\u001b[0m\u001b[1;33m.\u001b[0m\u001b[0mpush\u001b[0m\u001b[1;33m(\u001b[0m\u001b[0mb\u001b[0m\u001b[1;33m.\u001b[0m\u001b[0mpop\u001b[0m\u001b[1;33m(\u001b[0m\u001b[1;33m)\u001b[0m\u001b[1;33m)\u001b[0m\u001b[1;33m\u001b[0m\u001b[1;33m\u001b[0m\u001b[0m\n\u001b[0;32m     17\u001b[0m     \u001b[1;32melse\u001b[0m\u001b[1;33m:\u001b[0m\u001b[1;33m\u001b[0m\u001b[1;33m\u001b[0m\u001b[0m\n",
      "\u001b[1;32m<ipython-input-103-6c4e59bde5a1>\u001b[0m in \u001b[0;36mpeek\u001b[1;34m(self)\u001b[0m\n\u001b[0;32m     16\u001b[0m \u001b[1;33m\u001b[0m\u001b[0m\n\u001b[0;32m     17\u001b[0m     \u001b[1;32mdef\u001b[0m \u001b[0mpeek\u001b[0m\u001b[1;33m(\u001b[0m\u001b[0mself\u001b[0m\u001b[1;33m)\u001b[0m\u001b[1;33m:\u001b[0m\u001b[1;33m\u001b[0m\u001b[1;33m\u001b[0m\u001b[0m\n\u001b[1;32m---> 18\u001b[1;33m          \u001b[1;32mreturn\u001b[0m \u001b[0mself\u001b[0m\u001b[1;33m.\u001b[0m\u001b[0mitems\u001b[0m\u001b[1;33m[\u001b[0m\u001b[1;36m0\u001b[0m\u001b[1;33m]\u001b[0m\u001b[1;33m\u001b[0m\u001b[1;33m\u001b[0m\u001b[0m\n\u001b[0m\u001b[0;32m     19\u001b[0m \u001b[1;33m\u001b[0m\u001b[0m\n\u001b[0;32m     20\u001b[0m     \u001b[1;32mdef\u001b[0m \u001b[0m__len__\u001b[0m\u001b[1;33m(\u001b[0m\u001b[0mself\u001b[0m\u001b[1;33m)\u001b[0m\u001b[1;33m:\u001b[0m\u001b[1;33m\u001b[0m\u001b[1;33m\u001b[0m\u001b[0m\n",
      "\u001b[1;31mIndexError\u001b[0m: list index out of range"
     ]
    }
   ],
   "source": [
    "A = Stack()\n",
    "B = Stack()\n",
    "C = Stack()\n",
    "\n",
    "disks = 10\n",
    "\n",
    "for i in range(disks, 0, -1):\n",
    "    A.push(i)\n",
    "\n",
    "def move(a, b):\n",
    "    if len(a) == 0 and len(b) > 0:\n",
    "        a.push(b.pop())\n",
    "    elif len(a) > 0 and len(b) == 0:\n",
    "        b.push(a.pop())\n",
    "    elif a.peek() > b.peek():\n",
    "        a.push(b.pop())\n",
    "    else:\n",
    "        b.push(a.pop())\n",
    "\n",
    "if disks % 2 == 0:\n",
    "    while len(C) != disks:\n",
    "        move(A, B)\n",
    "        move(A, C)\n",
    "        move(B, C)\n",
    "else:\n",
    "    while len(C) != disks:\n",
    "        move(A, C)\n",
    "        move(A, B)\n",
    "        move(B, C)\n",
    "\n",
    "while not C.isEmpty():\n",
    "    print(C.pop())"
   ]
  },
  {
   "cell_type": "markdown",
   "id": "dominican-preview",
   "metadata": {},
   "source": [
    "## Задание 4"
   ]
  },
  {
   "cell_type": "code",
   "execution_count": 49,
   "id": "consolidated-circulation",
   "metadata": {},
   "outputs": [
    {
     "name": "stdout",
     "output_type": "stream",
     "text": [
      "алг Сумма квадратов (арг цел n, рез цел S) дано | n > 0 надо | S = 1*1 + 2*2 + 3*3 + … + n*n нач цел i | ввод n; S:=0 | нц для i от 1 до n | | S:= S + i * i | кц | вывод \"S = \", S кон\n",
      "\n",
      "Одинаковое количество скобок\n"
     ]
    }
   ],
   "source": [
    "with open('C:\\\\Users\\\\three\\\\PycharmProjects\\\\pythonProject\\\\ЛР4_4.txt', 'r', encoding = 'utf8') as s:\n",
    "    print(s.read())\n",
    "    left_b = 0\n",
    "    right_b = 0\n",
    "    stack = Stack()\n",
    "    for i in s:\n",
    "        if i == \"(\":\n",
    "            s.push()\n",
    "            right_b+=1\n",
    "        if i == \")\":\n",
    "            s.push()\n",
    "            left_b +=1\n",
    "    if left_b == right_b:\n",
    "        print(\"Одинаковое количество скобок\")\n",
    "    else:\n",
    "        print(\"Разное количество скобок\")\n",
    "            "
   ]
  },
  {
   "cell_type": "markdown",
   "id": "republican-circumstances",
   "metadata": {},
   "source": [
    "### Задание 5\n"
   ]
  },
  {
   "cell_type": "code",
   "execution_count": 50,
   "id": "proper-night",
   "metadata": {},
   "outputs": [
    {
     "name": "stdout",
     "output_type": "stream",
     "text": [
      "[][][][]]]]]\n",
      "Разное количество скобок\n"
     ]
    }
   ],
   "source": [
    "\n",
    "with open('C:\\\\Users\\\\three\\\\PycharmProjects\\\\pythonProject\\\\ЛР4_5.txt', 'r', encoding = 'utf8') as s:\n",
    "    print(s.read())\n",
    "    d = Deque()\n",
    "    for i in s:\n",
    "        if i == \"[\":\n",
    "            d.addRear(i)\n",
    "        if i == \"]\" and not d.isEmpty():\n",
    "            d.removeRear()\n",
    "        \n",
    "    if d.isEmpty():\n",
    "        print(\"Разное количество скобок\")\n",
    "    else:\n",
    "        print(\"одинаковое количество скобок\")"
   ]
  },
  {
   "cell_type": "markdown",
   "id": "polished-communication",
   "metadata": {},
   "source": [
    "## Задание 6"
   ]
  },
  {
   "cell_type": "code",
   "execution_count": 69,
   "id": "realistic-collector",
   "metadata": {},
   "outputs": [],
   "source": [
    "import itertools\n",
    "from itertools import chain\n",
    "import re"
   ]
  },
  {
   "cell_type": "code",
   "execution_count": 110,
   "id": "random-webmaster",
   "metadata": {},
   "outputs": [
    {
     "name": "stdout",
     "output_type": "stream",
     "text": [
      "a56t78j0k;)f5ghk\n"
     ]
    }
   ],
   "source": [
    "with open('C:\\\\Users\\\\three\\\\PycharmProjects\\\\pythonProject\\\\ЛР4_6.txt', 'r', encoding = 'utf8') as s:\n",
    "    print(s.read())\n",
    "    st = Stack()\n",
    "    for i in s:\n",
    "        if i.isalpha():\n",
    "            st.push(i)\n",
    "            print(st.pop(st.push(i)))\n",
    "            \n",
    "        \n",
    "\n",
    "        "
   ]
  },
  {
   "cell_type": "code",
   "execution_count": null,
   "id": "likely-workplace",
   "metadata": {},
   "outputs": [],
   "source": []
  },
  {
   "cell_type": "markdown",
   "id": "younger-cooperative",
   "metadata": {},
   "source": [
    "## Задание 7"
   ]
  },
  {
   "cell_type": "code",
   "execution_count": 121,
   "id": "removed-lyric",
   "metadata": {},
   "outputs": [
    {
     "name": "stdout",
     "output_type": "stream",
     "text": [
      "-1\n",
      "-12\n",
      "13\n",
      "0\n"
     ]
    }
   ],
   "source": [
    "\n",
    "\n",
    "numbers = [-1,13,0,-12]\n",
    "deque = Deque()\n",
    "for n in numbers:\n",
    "    if n < 0:\n",
    "        deque.addFront(n)\n",
    "    else:\n",
    "        deque.push(n)\n",
    "\n",
    "while not deque.isEmpty():\n",
    "    x = deque.removeFront()\n",
    "    if x < 0:\n",
    "        deque.push(x)\n",
    "    else:\n",
    "        deque.addFront(x)\n",
    "        break\n",
    "\n",
    "while not deque.isEmpty():\n",
    "    x = deque.removeRear()\n",
    "    if x < 0:\n",
    "        print(x)\n",
    "    else:\n",
    "        deque.push(x)\n",
    "        break\n",
    "\n",
    "while not deque.isEmpty():\n",
    "    print(deque.removeFront())"
   ]
  },
  {
   "cell_type": "markdown",
   "id": "understood-little",
   "metadata": {},
   "source": [
    "## Задание 8"
   ]
  },
  {
   "cell_type": "code",
   "execution_count": 122,
   "id": "organic-central",
   "metadata": {},
   "outputs": [
    {
     "name": "stdout",
     "output_type": "stream",
     "text": [
      "Алхимик\t\n",
      "\n",
      "Путешествия Гулливера\t\n",
      "\n",
      "Алиса в стране чудес\t\n",
      "\n",
      "Цикл произведений о Ведьмаке\n",
      "\n",
      "Алиса в Зазеркалье\t\n",
      "\n",
      "Машина времени\t\n",
      "\n",
      "Властелин колец\t\n",
      "\n",
      "Вино из одуванчиков\t\t\n",
      "\n",
      "Бегущая по волнам\t\n",
      "\n",
      "Семья вурдалака\t\n",
      "\n",
      "Песнь Льда и Огня\t\n",
      "\n",
      "Хроники Амбера\t\n",
      "\n",
      "Хроники Нарнии\t\n",
      "\n",
      "Чарли и шоколадная фабрика\t\n",
      "\n",
      "Дракон\t\n",
      "\n",
      "Колесо времени\t\n",
      "\n",
      "Хоббит, или Туда и обратно\n",
      "\n",
      "Заповедник гоблинов\t\n",
      "\n",
      "Плоский мир\t\n",
      "\n",
      "Волшебник Земноморья\t\n",
      "\n",
      "Темная башня\t\n",
      "\n",
      "Лабиринты Ехо\t\n",
      "\n",
      "Мио, мой Мио!\n",
      "\n",
      "Удивительный волшебник из страны Оз\n",
      "\n",
      "Королевство кривых зеркал\n",
      "\n",
      "Янки из Коннектикута при дворе короля Артура\n",
      "\n",
      "Северное сияние\n",
      "\n",
      "Крыса из нержавеющей стали\n",
      "\n",
      "Надвигается беда\n",
      "\n",
      "Серия \"Меч Истины\"\n",
      "\n",
      "В кругу развалин\n",
      "\n",
      "Интервью с вампиром\n",
      "\n",
      "Сирены Титана\n",
      "\n",
      "Питер Пэн и Венди\n",
      "\n",
      "Ночь в тоскливом октябре\n",
      "\n",
      "Сказки для вундеркиндов\n",
      "\n",
      "\n",
      "\n",
      "Сказки для вундеркиндов\n",
      "\n",
      "Ночь в тоскливом октябре\n",
      "\n",
      "Питер Пэн и Венди\n",
      "\n",
      "Сирены Титана\n",
      "\n",
      "Интервью с вампиром\n",
      "\n",
      "В кругу развалин\n",
      "\n",
      "Серия \"Меч Истины\"\n",
      "\n",
      "Надвигается беда\n",
      "\n",
      "Крыса из нержавеющей стали\n",
      "\n",
      "Северное сияние\n",
      "\n",
      "Янки из Коннектикута при дворе короля Артура\n",
      "\n",
      "Королевство кривых зеркал\n",
      "\n",
      "Удивительный волшебник из страны Оз\n",
      "\n",
      "Мио, мой Мио!\n",
      "\n",
      "Лабиринты Ехо\t\n",
      "\n",
      "Темная башня\t\n",
      "\n",
      "Волшебник Земноморья\t\n",
      "\n",
      "Плоский мир\t\n",
      "\n",
      "Заповедник гоблинов\t\n",
      "\n",
      "Хоббит, или Туда и обратно\n",
      "\n",
      "Колесо времени\t\n",
      "\n",
      "Дракон\t\n",
      "\n",
      "Чарли и шоколадная фабрика\t\n",
      "\n",
      "Хроники Нарнии\t\n",
      "\n",
      "Хроники Амбера\t\n",
      "\n",
      "Песнь Льда и Огня\t\n",
      "\n",
      "Семья вурдалака\t\n",
      "\n",
      "Бегущая по волнам\t\n",
      "\n",
      "Вино из одуванчиков\t\t\n",
      "\n",
      "Властелин колец\t\n",
      "\n",
      "Машина времени\t\n",
      "\n",
      "Алиса в Зазеркалье\t\n",
      "\n",
      "Цикл произведений о Ведьмаке\n",
      "\n",
      "Алиса в стране чудес\t\n",
      "\n",
      "Путешествия Гулливера\t\n",
      "\n",
      "Алхимик\t\n",
      "\n"
     ]
    }
   ],
   "source": [
    "with open('C:\\\\Users\\\\three\\\\PycharmProjects\\\\pythonProject\\\\books.txt', 'r', encoding = 'utf8') as books:\n",
    "    stack = Stack()\n",
    "    for book in books:\n",
    "        print(book)\n",
    "        stack.push(book)\n",
    "    print()\n",
    "    print()\n",
    "    while not stack.isEmpty():\n",
    "        print(stack.pop())"
   ]
  },
  {
   "cell_type": "code",
   "execution_count": null,
   "id": "lovely-security",
   "metadata": {},
   "outputs": [],
   "source": []
  }
 ],
 "metadata": {
  "kernelspec": {
   "display_name": "Python 3",
   "language": "python",
   "name": "python3"
  },
  "language_info": {
   "codemirror_mode": {
    "name": "ipython",
    "version": 3
   },
   "file_extension": ".py",
   "mimetype": "text/x-python",
   "name": "python",
   "nbconvert_exporter": "python",
   "pygments_lexer": "ipython3",
   "version": "3.9.1"
  }
 },
 "nbformat": 4,
 "nbformat_minor": 5
}
